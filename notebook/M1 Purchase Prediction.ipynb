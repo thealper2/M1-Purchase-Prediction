{
 "cells": [
  {
   "cell_type": "markdown",
   "id": "78194f14-e039-405c-a187-8c49d153f85a",
   "metadata": {},
   "source": [
    "# Import Libraries"
   ]
  },
  {
   "cell_type": "code",
   "execution_count": null,
   "id": "5d85e782-9a70-4239-a4fe-7b07b1938b8d",
   "metadata": {},
   "outputs": [],
   "source": [
    "import numpy as np\n",
    "import pandas as pd\n",
    "import matplotlib.pyplot as plt\n",
    "import seaborn as sns\n",
    "import pickle\n",
    "import time\n",
    "\n",
    "from sklearn.model_selection import train_test_split, cross_val_score, GridSearchCV\n",
    "from sklearn.preprocessing import OrdinalEncoder, StandardScaler\n",
    "from imblearn.over_sampling import SMOTE\n",
    "from sklearn.ensemble import RandomForestClassifier\n",
    "from sklearn.metrics import confusion_matrix, accuracy_score, f1_score, precision_score, recall_score, classification_report\n",
    "from mlxtend.plotting import plot_confusion_matrix\n",
    "from scikitplot.plotters import plot_roc_curve, plot_precision_recall_curve, plot_feature_importances\n",
    "from sklearn.exceptions import ConvergenceWarning\n",
    "import warnings\n",
    "warnings.filterwarnings(\"ignore\", category=UserWarning)\n",
    "warnings.filterwarnings(\"ignore\", category=FutureWarning)\n",
    "warnings.filterwarnings(\"ignore\", category=ConvergenceWarning)"
   ]
  },
  {
   "cell_type": "markdown",
   "id": "e8fac664-f835-45d3-b2f3-00e1cef765ce",
   "metadata": {},
   "source": [
    "# Load Data"
   ]
  },
  {
   "cell_type": "code",
   "execution_count": null,
   "id": "76d6499c-010b-42be-86fe-7689b86c6af8",
   "metadata": {},
   "outputs": [],
   "source": [
    "df = pd.read_csv(\"/mnt/hdd/Datasets/M1_data.csv\", delimiter=\",\")\n",
    "df.head()"
   ]
  },
  {
   "cell_type": "code",
   "execution_count": null,
   "id": "ecd8aaff-9e41-49f6-bd82-9258f0754496",
   "metadata": {},
   "outputs": [],
   "source": [
    "df.shape"
   ]
  },
  {
   "cell_type": "code",
   "execution_count": null,
   "id": "057e48cb-d56a-4df8-af75-d69ae9b23c75",
   "metadata": {},
   "outputs": [],
   "source": [
    "df.info()"
   ]
  },
  {
   "cell_type": "code",
   "execution_count": null,
   "id": "3532b626-7e35-4e18-b089-6949bdaf0c16",
   "metadata": {},
   "outputs": [],
   "source": [
    "df.isnull().sum()"
   ]
  },
  {
   "cell_type": "code",
   "execution_count": null,
   "id": "54780d5d-c5c6-47ce-93f5-77995beaa188",
   "metadata": {},
   "outputs": [],
   "source": [
    "df.duplicated().sum()"
   ]
  },
  {
   "cell_type": "code",
   "execution_count": null,
   "id": "746abd0e-dded-4fc8-ba92-e5f0379c3c6c",
   "metadata": {},
   "outputs": [],
   "source": [
    "df.drop_duplicates(inplace=True)"
   ]
  },
  {
   "cell_type": "markdown",
   "id": "f7208a2d-45b3-4138-b240-14516c5f0861",
   "metadata": {},
   "source": [
    "# EDA"
   ]
  },
  {
   "cell_type": "code",
   "execution_count": null,
   "id": "80701d17-bcb0-496b-8a03-eec85bc55d90",
   "metadata": {},
   "outputs": [],
   "source": [
    "df.head()"
   ]
  },
  {
   "cell_type": "code",
   "execution_count": null,
   "id": "05367f85-4b8b-4f35-8f57-bb0c7fe1d2d2",
   "metadata": {},
   "outputs": [],
   "source": [
    "df.trust_apple.value_counts().plot(kind=\"pie\", autopct=\"%.2f%%\", startangle=90, shadow=True, explode=[0, 0.1], title=\"Trust Apple\")"
   ]
  },
  {
   "cell_type": "code",
   "execution_count": null,
   "id": "c7355718-7a14-4aa8-a9b3-5c1605e69840",
   "metadata": {},
   "outputs": [],
   "source": [
    "plt.figure()\n",
    "ax = sns.countplot(data=df, x=\"interest_computers\")\n",
    "ax.bar_label(ax.containers[0])\n",
    "plt.title(\"Interest Computers\")\n",
    "plt.show()"
   ]
  },
  {
   "cell_type": "code",
   "execution_count": null,
   "id": "6a2bd4b2-263a-439c-a396-da90c3e3eef6",
   "metadata": {},
   "outputs": [],
   "source": [
    "plt.figure()\n",
    "ax = sns.countplot(data=df, x=\"age_computer\")\n",
    "ax.bar_label(ax.containers[0])\n",
    "plt.title(\"Age Computer\")\n",
    "plt.show()"
   ]
  },
  {
   "cell_type": "code",
   "execution_count": null,
   "id": "a71de10b-7f1c-4b68-a06c-b3fb6618bdfb",
   "metadata": {},
   "outputs": [],
   "source": [
    "plt.figure()\n",
    "ax = sns.countplot(data=df, x=\"user_pcmac\")\n",
    "ax.bar_label(ax.containers[0])\n",
    "plt.title(\"PC vs Mac\")\n",
    "plt.show()"
   ]
  },
  {
   "cell_type": "code",
   "execution_count": null,
   "id": "b0f5bae9-d514-4d05-b515-267f2c046a73",
   "metadata": {},
   "outputs": [],
   "source": [
    "plt.figure()\n",
    "ax = sns.countplot(data=df, x=\"appleproducts_count\")\n",
    "ax.bar_label(ax.containers[0])\n",
    "plt.title(\"Apple Products Count\")\n",
    "plt.show()"
   ]
  },
  {
   "cell_type": "code",
   "execution_count": null,
   "id": "e840aac8-891a-47a0-a399-3895bcc72bb2",
   "metadata": {},
   "outputs": [],
   "source": [
    "df.familiarity_m1.value_counts().plot(kind=\"pie\", autopct=\"%.2f%%\", shadow=True, startangle=90, explode=[0, 0.1], title=\"Familiarity M1\")"
   ]
  },
  {
   "cell_type": "code",
   "execution_count": null,
   "id": "798b3e59-ba17-4c92-b707-cd1a29273cad",
   "metadata": {},
   "outputs": [],
   "source": [
    "plt.figure()\n",
    "ax = sns.countplot(data=df, x=\"f_batterylife\")\n",
    "ax.bar_label(ax.containers[0])\n",
    "plt.title(\"Battery Life\")\n",
    "plt.show()"
   ]
  },
  {
   "cell_type": "code",
   "execution_count": null,
   "id": "fc305217-c052-442e-9834-3332618902ee",
   "metadata": {},
   "outputs": [],
   "source": [
    "plt.figure()\n",
    "ax = sns.countplot(data=df, x=\"f_price\")\n",
    "ax.bar_label(ax.containers[0])\n",
    "plt.title(\"Price\")\n",
    "plt.show()"
   ]
  },
  {
   "cell_type": "code",
   "execution_count": null,
   "id": "eaf46c69-3c65-4c5f-90df-a6d7f264f001",
   "metadata": {},
   "outputs": [],
   "source": [
    "plt.figure()\n",
    "ax = sns.countplot(data=df, x=\"f_size\")\n",
    "ax.bar_label(ax.containers[0])\n",
    "plt.title(\"Size\")\n",
    "plt.show()"
   ]
  },
  {
   "cell_type": "code",
   "execution_count": null,
   "id": "4aa0b746-61bf-4460-935a-6b0fc59b677f",
   "metadata": {},
   "outputs": [],
   "source": [
    "plt.figure()\n",
    "ax = sns.countplot(data=df, x=\"f_multitasking\")\n",
    "ax.bar_label(ax.containers[0])\n",
    "plt.title(\"Multitasking\")\n",
    "plt.show()"
   ]
  },
  {
   "cell_type": "code",
   "execution_count": null,
   "id": "f7df447e-60ef-4e6c-bc68-d9d7969a5e79",
   "metadata": {},
   "outputs": [],
   "source": [
    "plt.figure()\n",
    "ax = sns.countplot(data=df, x=\"f_noise\")\n",
    "ax.bar_label(ax.containers[0])\n",
    "plt.title(\"Noise\")\n",
    "plt.show()"
   ]
  },
  {
   "cell_type": "code",
   "execution_count": null,
   "id": "45218371-810d-4445-8813-512ff0f541ac",
   "metadata": {},
   "outputs": [],
   "source": [
    "plt.figure()\n",
    "ax = sns.countplot(data=df, x=\"f_performance\")\n",
    "ax.bar_label(ax.containers[0])\n",
    "plt.title(\"Performance\")\n",
    "plt.show()"
   ]
  },
  {
   "cell_type": "code",
   "execution_count": null,
   "id": "7131ba2e-0560-43fa-ae91-58022a553914",
   "metadata": {},
   "outputs": [],
   "source": [
    "plt.figure()\n",
    "ax = sns.countplot(data=df, x=\"f_neural\")\n",
    "ax.bar_label(ax.containers[0])\n",
    "plt.title(\"Neural\")\n",
    "plt.show()"
   ]
  },
  {
   "cell_type": "code",
   "execution_count": null,
   "id": "00afb048-833d-4268-a575-9ca6ad47151c",
   "metadata": {},
   "outputs": [],
   "source": [
    "plt.figure()\n",
    "ax = sns.countplot(data=df, x=\"f_synergy\")\n",
    "ax.bar_label(ax.containers[0])\n",
    "plt.title(\"Synergy\")\n",
    "plt.show()"
   ]
  },
  {
   "cell_type": "code",
   "execution_count": null,
   "id": "cd563d77-03cc-4e63-b5b1-63e283c454df",
   "metadata": {},
   "outputs": [],
   "source": [
    "plt.figure()\n",
    "ax = sns.countplot(data=df, x=\"f_performanceloss\")\n",
    "ax.bar_label(ax.containers[0])\n",
    "plt.title(\"Performance Loss\")\n",
    "plt.show()"
   ]
  },
  {
   "cell_type": "code",
   "execution_count": null,
   "id": "5007f1c0-e401-48b2-8361-f73169395a3b",
   "metadata": {},
   "outputs": [],
   "source": [
    "plt.figure()\n",
    "ax = sns.countplot(data=df, x=\"m1_consideration\")\n",
    "ax.bar_label(ax.containers[0])\n",
    "plt.title(\"m1_consideration\")\n",
    "plt.show()"
   ]
  },
  {
   "cell_type": "code",
   "execution_count": null,
   "id": "f7527edc-c75a-4dc9-b2e1-0a3b97e330ee",
   "metadata": {},
   "outputs": [],
   "source": [
    "plt.figure()\n",
    "ax = sns.countplot(data=df, x=\"m1_purchase\")\n",
    "ax.bar_label(ax.containers[0])\n",
    "plt.title(\"m1_purchase\")\n",
    "plt.show()"
   ]
  },
  {
   "cell_type": "code",
   "execution_count": null,
   "id": "90ca946f-70c8-4cbc-af82-ac828b8e8997",
   "metadata": {},
   "outputs": [],
   "source": [
    "plt.figure()\n",
    "ax = sns.countplot(data=df, x=\"gender\")\n",
    "ax.bar_label(ax.containers[0])\n",
    "plt.title(\"Gender\")\n",
    "plt.show()"
   ]
  },
  {
   "cell_type": "code",
   "execution_count": null,
   "id": "555525bd-2bbf-4503-8ae7-9fc8c7d770fe",
   "metadata": {},
   "outputs": [],
   "source": [
    "plt.figure()\n",
    "ax = sns.countplot(data=df, x=\"age_group\")\n",
    "ax.bar_label(ax.containers[0])\n",
    "plt.title(\"Age Group\")\n",
    "plt.show()"
   ]
  },
  {
   "cell_type": "code",
   "execution_count": null,
   "id": "b9cdf4b2-c821-4012-bd23-1a4eb5377a1a",
   "metadata": {},
   "outputs": [],
   "source": [
    "plt.figure()\n",
    "ax = sns.countplot(data=df, x=\"income_group\")\n",
    "ax.bar_label(ax.containers[0])\n",
    "plt.title(\"Income Group\")\n",
    "plt.show()"
   ]
  },
  {
   "cell_type": "code",
   "execution_count": null,
   "id": "ec5e5b77-7d23-4647-ae09-640cf4d79f5f",
   "metadata": {},
   "outputs": [],
   "source": [
    "plt.figure()\n",
    "ax = sns.countplot(data=df, x=\"status\")\n",
    "ax.bar_label(ax.containers[0])\n",
    "plt.title(\"Status\")\n",
    "plt.xticks(rotation=90)\n",
    "plt.show()"
   ]
  },
  {
   "cell_type": "code",
   "execution_count": null,
   "id": "d6a8ba53-1c95-4c4b-8f8f-5f7eba2dcf35",
   "metadata": {},
   "outputs": [],
   "source": [
    "plt.figure(figsize=(14, 5))\n",
    "ax = sns.countplot(data=df, x=\"domain\")\n",
    "ax.bar_label(ax.containers[0])\n",
    "plt.title(\"domain\")\n",
    "plt.xticks(rotation=90)\n",
    "plt.show()"
   ]
  },
  {
   "cell_type": "markdown",
   "id": "b2792192-c281-4043-bedb-8df8414530ba",
   "metadata": {},
   "source": [
    "# Preprocess"
   ]
  },
  {
   "cell_type": "code",
   "execution_count": null,
   "id": "ba280ebe-938b-49dd-8c01-9d3f15f6633c",
   "metadata": {},
   "outputs": [],
   "source": [
    "df[\"interest_computers\"] = df[\"interest_computers\"].map({5: \"Good\", 4: \"Good\", 3: \"Bad\", 2: \"Bad\"})"
   ]
  },
  {
   "cell_type": "code",
   "execution_count": null,
   "id": "3d4838f0-1e5b-4897-bc27-8488de18544c",
   "metadata": {},
   "outputs": [],
   "source": [
    "df[\"age_computer\"] = df[\"age_computer\"].map({\n",
    "    0: \"New\", 1: \"New\", 2: \"New\", \n",
    "    3: \"Old\", 4: \"Old\", 5: \"Old\", \n",
    "    6: \"Very Old\", 7: \"Very Old\", 8: \"Very Old\", 9: \"Very Old\"\n",
    "})"
   ]
  },
  {
   "cell_type": "code",
   "execution_count": null,
   "id": "f4c02cf1-da8c-4eb0-b0b6-f9ccf2398fcb",
   "metadata": {},
   "outputs": [],
   "source": [
    "df[\"user_pcmac\"] = df[\"user_pcmac\"].map({\n",
    "    \"Apple\": \"Apple\",\n",
    "    \"PC\": \"Other\", \"Hp\": \"Other\", \"Other\": \"Other\"\n",
    "})"
   ]
  },
  {
   "cell_type": "code",
   "execution_count": null,
   "id": "a53d42e5-d3d4-4b73-ae1e-af3ffa71fae6",
   "metadata": {},
   "outputs": [],
   "source": [
    "df[\"f_batterylife\"] = df[\"f_batterylife\"].map({\n",
    "    1: \"Low\", 2: \"Low\",\n",
    "    3: \"Normal\", 4: \"Normal\",\n",
    "    5: \"High\"\n",
    "})"
   ]
  },
  {
   "cell_type": "code",
   "execution_count": null,
   "id": "fcea82cf-d08c-49c2-a161-77e13756c213",
   "metadata": {},
   "outputs": [],
   "source": [
    "df[\"f_price\"] = df[\"f_price\"].map({\n",
    "    1: \"Low\", 2: \"Low\",\n",
    "    3: \"Normal\",\n",
    "    4: \"Normal-High\",\n",
    "    5: \"High\"\n",
    "})"
   ]
  },
  {
   "cell_type": "code",
   "execution_count": null,
   "id": "4397c6f7-7d37-448c-a9ec-dae735b1617b",
   "metadata": {},
   "outputs": [],
   "source": [
    "df[\"f_multitasking\"] = df[\"f_multitasking\"].map({\n",
    "    2: \"Low\", 3: \"Low\",\n",
    "    4: \"Normal\",\n",
    "    5: \"High\"\n",
    "})"
   ]
  },
  {
   "cell_type": "code",
   "execution_count": null,
   "id": "6f52b372-c775-48c9-b5e6-5d5c4f91cdd3",
   "metadata": {},
   "outputs": [],
   "source": [
    "df[\"f_noise\"] = df[\"f_noise\"].map({\n",
    "    1: \"Low\", 2: \"Low\",\n",
    "    3: \"Low\",\n",
    "    4: \"Normal\",\n",
    "    5: \"High\"\n",
    "})"
   ]
  },
  {
   "cell_type": "code",
   "execution_count": null,
   "id": "73087f39-9616-4cfc-922b-fd6580c0888f",
   "metadata": {},
   "outputs": [],
   "source": [
    "df[\"f_performance\"] = df[\"f_performance\"].map({\n",
    "    2: \"Low\", 3: \"Low\",\n",
    "    4: \"Normal\",\n",
    "    5: \"High\"\n",
    "})"
   ]
  },
  {
   "cell_type": "code",
   "execution_count": null,
   "id": "11688a83-5b0f-41f1-aea4-71c9ab396e9b",
   "metadata": {},
   "outputs": [],
   "source": [
    "df.head()"
   ]
  },
  {
   "cell_type": "code",
   "execution_count": null,
   "id": "0bbcf9a9-71cb-468d-8c5b-36129e7f4996",
   "metadata": {},
   "outputs": [],
   "source": [
    "df.info()"
   ]
  },
  {
   "cell_type": "code",
   "execution_count": null,
   "id": "3207c954-e490-4645-bac9-7f566d44f479",
   "metadata": {},
   "outputs": [],
   "source": [
    "df.columns"
   ]
  },
  {
   "cell_type": "code",
   "execution_count": null,
   "id": "c079e6e9-46d3-46da-8ee2-812e83d3876f",
   "metadata": {},
   "outputs": [],
   "source": [
    "df[\"status\"].unique()"
   ]
  },
  {
   "cell_type": "code",
   "execution_count": null,
   "id": "0000db76-1cb6-4d23-a2b3-6a95fef2b677",
   "metadata": {},
   "outputs": [],
   "source": [
    "cat_cols = [col for col in df.columns if df[col].dtype == \"object\"]\n",
    "cat_cols.remove(\"m1_purchase\")\n",
    "cat_cols"
   ]
  },
  {
   "cell_type": "code",
   "execution_count": null,
   "id": "a78b39eb-7a78-41c1-8128-5a8a6b1314a3",
   "metadata": {},
   "outputs": [],
   "source": [
    "df.loc[0].T"
   ]
  },
  {
   "cell_type": "code",
   "execution_count": null,
   "id": "676b9300-f74d-4a29-87f0-8e2f169e7822",
   "metadata": {},
   "outputs": [],
   "source": [
    "ord_encoder =  OrdinalEncoder()\n",
    "df[cat_cols] = ord_encoder.fit_transform(df[cat_cols])"
   ]
  },
  {
   "cell_type": "code",
   "execution_count": null,
   "id": "05e8f1bc-c8c2-4e82-8e19-b369e5434d96",
   "metadata": {},
   "outputs": [],
   "source": [
    "pickle.dump(ord_encoder, open(\"../base/server/model/ord_encoder.pkl\", \"wb\"))"
   ]
  },
  {
   "cell_type": "code",
   "execution_count": null,
   "id": "fca3ce08-8261-4076-83e3-9fca22600a99",
   "metadata": {},
   "outputs": [],
   "source": [
    "df.head()"
   ]
  },
  {
   "cell_type": "code",
   "execution_count": null,
   "id": "f0311bc3-30b0-4e60-b016-f597e582430f",
   "metadata": {},
   "outputs": [],
   "source": [
    "class_names = [\"No\", \"Yes\"]"
   ]
  },
  {
   "cell_type": "markdown",
   "id": "aa19526e-f863-43d3-a4f2-839a87eacc63",
   "metadata": {},
   "source": [
    "# Model"
   ]
  },
  {
   "cell_type": "code",
   "execution_count": null,
   "id": "96d5cbae-7178-4d5b-94e8-a22f7b6ba246",
   "metadata": {},
   "outputs": [],
   "source": [
    "X = df.drop(\"m1_purchase\", axis=1)\n",
    "y = df[\"m1_purchase\"]"
   ]
  },
  {
   "cell_type": "code",
   "execution_count": null,
   "id": "76234464-b452-4918-88c5-a6c80660876d",
   "metadata": {},
   "outputs": [],
   "source": [
    "smote = SMOTE(random_state=42)\n",
    "X_resampled, y_resampled = smote.fit_resample(X, y)"
   ]
  },
  {
   "cell_type": "code",
   "execution_count": null,
   "id": "4370839d-991f-4fbf-a67f-87d0beb3bf8a",
   "metadata": {},
   "outputs": [],
   "source": [
    "ss = StandardScaler()\n",
    "X_scaled = ss.fit_transform(X_resampled)"
   ]
  },
  {
   "cell_type": "code",
   "execution_count": null,
   "id": "c925ca47-1886-4d3b-bcf3-7232d87aa528",
   "metadata": {},
   "outputs": [],
   "source": [
    "pickle.dump(ss, open(\"../base/server/model/ss.pkl\", \"wb\"))"
   ]
  },
  {
   "cell_type": "code",
   "execution_count": null,
   "id": "954ac716-7c0d-4f7e-85a9-7c9fefe1d59d",
   "metadata": {},
   "outputs": [],
   "source": [
    "X_train, X_test, y_train, y_test = train_test_split(X_scaled, y_resampled, test_size=0.2, random_state=42)"
   ]
  },
  {
   "cell_type": "markdown",
   "id": "4b78959e-0483-4e18-b9d9-b3b3162a27be",
   "metadata": {},
   "source": [
    "# Random Forest"
   ]
  },
  {
   "cell_type": "code",
   "execution_count": null,
   "id": "58927e81-720f-42ef-9a23-1a0b619bcaa2",
   "metadata": {},
   "outputs": [],
   "source": [
    "rf = RandomForestClassifier()\n",
    "start = time.time()\n",
    "rf.fit(X_train, y_train)\n",
    "end = time.time()\n",
    "rf_time = end - start\n",
    "print(\"Random Forest Train Time:\", rf_time)"
   ]
  },
  {
   "cell_type": "code",
   "execution_count": null,
   "id": "7afc77a8-4176-4134-8cef-c9b281f77c1b",
   "metadata": {},
   "outputs": [],
   "source": [
    "pickle.dump(rf, open(\"../base/server/model/rf.pkl\", \"wb\"))"
   ]
  },
  {
   "cell_type": "code",
   "execution_count": null,
   "id": "03213956-b729-487f-8296-36a7f00d503d",
   "metadata": {},
   "outputs": [],
   "source": [
    "rf_scores = cross_val_score(RandomForestClassifier(), X_train, y_train, cv=3)\n",
    "print(\"Random Forest Cross-Validation Score:\", rf_scores.mean())"
   ]
  },
  {
   "cell_type": "code",
   "execution_count": null,
   "id": "d30ef4f8-9d76-4066-9282-1caac0969e2d",
   "metadata": {},
   "outputs": [],
   "source": [
    "rf_pred_train = rf.predict(X_train)\n",
    "rf_pred_test = rf.predict(X_test)\n",
    "rf_test_proba = rf.predict_proba(X_test)\n",
    "\n",
    "rf_train_score = accuracy_score(rf_pred_train, y_train)\n",
    "rf_test_score = accuracy_score(rf_pred_test, y_test)\n",
    "print(\"Random Forest Train Score:\", rf_train_score)\n",
    "print(\"Random Forest Test Score:\", rf_test_score)"
   ]
  },
  {
   "cell_type": "markdown",
   "id": "c207fde9-6f85-493e-93c3-1a1422c3269d",
   "metadata": {},
   "source": [
    "# Hyperparameter Tuning"
   ]
  },
  {
   "cell_type": "code",
   "execution_count": null,
   "id": "2bd19c6c-6443-4b28-9151-7aa7e529b96f",
   "metadata": {},
   "outputs": [],
   "source": [
    "rf_params = {\n",
    "    'max_depth': np.arange(1, 10), \n",
    "    'max_features': [5, 10, 15, 20], \n",
    "    'n_estimators': [100, 200, 300, 400, 500, 1000]\n",
    "}\n",
    "rf_cv_model = GridSearchCV(RandomForestClassifier(), rf_params, cv=10, n_jobs=-1).fit(X_train, y_train)\n",
    "rf_cv_model.best_params_"
   ]
  },
  {
   "cell_type": "code",
   "execution_count": null,
   "id": "d21d4581-3e24-4eeb-92f8-b183f127ed96",
   "metadata": {},
   "outputs": [],
   "source": [
    "rf_tuned = RandomForestClassifier(max_depth=9, max_features=5, n_estimators=300)\n",
    "start = time.time()\n",
    "rf_tuned.fit(X_train, y_train)\n",
    "end = time.time()\n",
    "rf_tuned_time = end - start\n",
    "print(\"Tuned RandomForestClassifier Train Time:\", rf_tuned_time)"
   ]
  },
  {
   "cell_type": "code",
   "execution_count": null,
   "id": "0fb979e1-9f84-4592-9d26-15c78d2e27e0",
   "metadata": {},
   "outputs": [],
   "source": [
    "rf_tuned_scores = cross_val_score(RandomForestClassifier(max_depth=9, max_features=5, n_estimators=300), X_train, y_train, cv=3)\n",
    "print(\"Tuned RandomForestClassifier Cross-Validation Scores:\", rf_tuned_scores)"
   ]
  },
  {
   "cell_type": "code",
   "execution_count": null,
   "id": "55af8144-8b38-4aa4-bf27-eec7fe4b6e2c",
   "metadata": {},
   "outputs": [],
   "source": [
    "tuned_rf_pred_train = rf_tuned.predict(X_train)\n",
    "tuned_rf_pred_test = rf_tuned.predict(X_test)\n",
    "tuned_rf_test_proba = rf_tuned.predict_proba(X_test)\n",
    "\n",
    "tuned_rf_train_score = accuracy_score(tuned_rf_pred_train, y_train)\n",
    "tuned_rf_test_score = accuracy_score(tuned_rf_pred_test, y_test)\n",
    "print(\"Tuned Random Forest Train Score:\", tuned_rf_train_score)\n",
    "print(\"tuned Random Forest Test Score:\", tuned_rf_test_score)"
   ]
  },
  {
   "cell_type": "code",
   "execution_count": null,
   "id": "fa32a3ac-71d5-4572-809a-8760afaf7e46",
   "metadata": {},
   "outputs": [],
   "source": [
    "print(classification_report(y_test, tuned_rf_pred_test, target_names=class_names))"
   ]
  },
  {
   "cell_type": "code",
   "execution_count": null,
   "id": "817383b2-cea4-4fce-99a4-b8b9acb7ac94",
   "metadata": {},
   "outputs": [],
   "source": [
    "rf_cm = confusion_matrix(y_test, tuned_rf_pred_test)\n",
    "fig, ax = plot_confusion_matrix(conf_mat=rf_cm, show_absolute=True, show_normed=True, colorbar=True, class_names=class_names)\n",
    "plt.title(\"Tuned Random Forest Confusion Matrix\")\n",
    "plt.show()"
   ]
  },
  {
   "cell_type": "code",
   "execution_count": null,
   "id": "62d0ead9-05cd-4a91-8a58-ee3cce86e24c",
   "metadata": {},
   "outputs": [],
   "source": [
    "plot_feature_importances(rf_tuned, feature_names=X.columns, x_tick_rotation=90, title=\"Tuned Random Forest Feature Importances\")\n",
    "plt.show()"
   ]
  },
  {
   "cell_type": "code",
   "execution_count": null,
   "id": "0c159937-8ad0-417d-8c7e-16717358f8c0",
   "metadata": {},
   "outputs": [],
   "source": [
    "rf_tuned_feature_df = pd.DataFrame(zip(X.columns, rf_tuned.feature_importances_), columns=[\"feature\", \"feature_importance\"])\n",
    "rf_tuned_feature_df"
   ]
  },
  {
   "cell_type": "code",
   "execution_count": null,
   "id": "18531120-e744-4669-9c38-da6aefdf25c9",
   "metadata": {},
   "outputs": [],
   "source": [
    "tuned_features = rf_tuned_feature_df[rf_tuned_feature_df[\"feature_importance\"] > 0.04].sort_values(by=\"feature_importance\", ascending=False).reset_index(drop=True)\n",
    "tuned_features"
   ]
  },
  {
   "cell_type": "code",
   "execution_count": null,
   "id": "e97e3056-1af1-494e-919e-3390afce612d",
   "metadata": {},
   "outputs": [],
   "source": [
    "tuned_features.feature.unique()"
   ]
  },
  {
   "cell_type": "code",
   "execution_count": null,
   "id": "75d790fa-f9c2-462c-b2e9-2a6c1188f33f",
   "metadata": {},
   "outputs": [],
   "source": [
    "X_tuned = X[tuned_features.feature.unique()]\n",
    "X_tuned"
   ]
  },
  {
   "cell_type": "code",
   "execution_count": null,
   "id": "74c40959-34b8-437d-854c-a280d37e6a7b",
   "metadata": {},
   "outputs": [],
   "source": [
    "ss_tuned = StandardScaler()\n",
    "X_tuned_scaled = ss_tuned.fit_transform(X_tuned)\n",
    "X_tuned_scaled"
   ]
  },
  {
   "cell_type": "code",
   "execution_count": null,
   "id": "42216be0-544a-4066-bcb6-6950e645c4c9",
   "metadata": {},
   "outputs": [],
   "source": [
    "y_tuned = y[X_tuned.index]\n",
    "y_tuned"
   ]
  },
  {
   "cell_type": "code",
   "execution_count": null,
   "id": "85357a84-f7fe-49ea-b2f5-d497ad64e9fe",
   "metadata": {},
   "outputs": [],
   "source": [
    "X_train, X_test, y_train, y_test = train_test_split(X_tuned_scaled, y_tuned, test_size=0.2, random_state=42)"
   ]
  },
  {
   "cell_type": "code",
   "execution_count": null,
   "id": "95547f6a-fa31-4dcf-a5da-bc73c4d5362e",
   "metadata": {},
   "outputs": [],
   "source": [
    "rf_feat = RandomForestClassifier()\n",
    "start = time.time()\n",
    "rf_feat.fit(X_train, y_train)\n",
    "end = time.time()\n",
    "rf_feat_time = end - start\n",
    "print(\"RandomForestClassifier Train Time:\", rf_feat_time)"
   ]
  },
  {
   "cell_type": "code",
   "execution_count": null,
   "id": "6b4d78ad-07f0-4089-8005-280d52f40360",
   "metadata": {},
   "outputs": [],
   "source": [
    "rf_feat_scores = cross_val_score(RandomForestClassifier(), X_train, y_train, cv=3)\n",
    "print(\"RandomForestClassifier Cross-Validation Scores:\", rf_feat_scores)"
   ]
  },
  {
   "cell_type": "code",
   "execution_count": null,
   "id": "4aefa655-6e67-4324-9bf5-81a5c567ca9f",
   "metadata": {},
   "outputs": [],
   "source": [
    "feat_rf_pred_train = rf_feat.predict(X_train)\n",
    "feat_rf_pred_test = rf_feat.predict(X_test)\n",
    "feat_rf_test_proba = rf_feat.predict_proba(X_test)\n",
    "\n",
    "feat_rf_train_score = accuracy_score(feat_rf_pred_train, y_train)\n",
    "feat_rf_test_score = accuracy_score(feat_rf_pred_test, y_test)\n",
    "print(\"Random Forest Train Score:\", feat_rf_train_score)\n",
    "print(\"Random Forest Test Score:\", feat_rf_test_score)"
   ]
  },
  {
   "cell_type": "code",
   "execution_count": null,
   "id": "263b3e58-126e-414d-b576-ecb97f38944a",
   "metadata": {},
   "outputs": [],
   "source": [
    "feat_rf_precision_score = precision_score(y_test, feat_rf_pred_test)\n",
    "feat_rf_f1_score = f1_score(y_test, feat_rf_pred_test)\n",
    "feat_rf_recall_score = recall_score(y_test, feat_rf_pred_test)\n",
    "feat_rf_accuracy_score = accuracy_score(y_test, feat_rf_pred_test)\n",
    "\n",
    "print(\"Feat Random Forest Precision Score:\", feat_rf_precision_score)\n",
    "print(\"Feat Random Forest F1 Score:\", feat_rf_f1_score)\n",
    "print(\"Feat Random Forest Recall Score:\", feat_rf_recall_score)\n",
    "print(\"Feat Random Forest Accuracy Score:\", feat_rf_accuracy_score)"
   ]
  },
  {
   "cell_type": "code",
   "execution_count": null,
   "id": "5d501ce1-c800-4ff8-b7cb-dd20bac10723",
   "metadata": {},
   "outputs": [],
   "source": [
    "print(classification_report(y_test, rf_pred_test, target_names=class_names))"
   ]
  },
  {
   "cell_type": "code",
   "execution_count": null,
   "id": "f1c0c176-9728-4e46-b9f5-97aae08e7217",
   "metadata": {},
   "outputs": [],
   "source": [
    "rf_cm = confusion_matrix(y_test, feat_rf_pred_test)\n",
    "fig, ax = plot_confusion_matrix(conf_mat=rf_cm, show_absolute=True, show_normed=True, colorbar=True, class_names=class_names)\n",
    "plt.title(\"Feat Random Forest Confusion Matrix\")\n",
    "plt.show()"
   ]
  },
  {
   "cell_type": "code",
   "execution_count": null,
   "id": "b016e30b-4e00-4afd-83d6-2cf11eb0fbf7",
   "metadata": {},
   "outputs": [],
   "source": [
    "plot_precision_recall(y_test, feat_rf_test_proba)\n",
    "plt.title(\"Feat Random Forest Precision-Recall Curve\")\n",
    "plt.show()"
   ]
  },
  {
   "cell_type": "code",
   "execution_count": null,
   "id": "a8edb677-6dbe-49d3-b554-3379ffb77389",
   "metadata": {},
   "outputs": [],
   "source": [
    "plot_roc_curve(y_test, feat_rf_test_proba)\n",
    "plt.title(\"Feat Random Forest ROC Curve\")\n",
    "plt.show()"
   ]
  },
  {
   "cell_type": "code",
   "execution_count": null,
   "id": "b4a0564f-4cb4-4f4e-ae56-c2025bf8986c",
   "metadata": {},
   "outputs": [],
   "source": []
  },
  {
   "cell_type": "code",
   "execution_count": null,
   "id": "4f9165f6-95bf-46da-94a9-675d9f1cb25e",
   "metadata": {},
   "outputs": [],
   "source": []
  },
  {
   "cell_type": "code",
   "execution_count": null,
   "id": "b1bae51c-ec03-444f-a16c-12e384dc98e4",
   "metadata": {},
   "outputs": [],
   "source": []
  },
  {
   "cell_type": "code",
   "execution_count": null,
   "id": "d73fd4fc-9793-4f76-83d5-fb3ef398a4a2",
   "metadata": {},
   "outputs": [],
   "source": []
  }
 ],
 "metadata": {
  "kernelspec": {
   "display_name": "Python 3 (ipykernel)",
   "language": "python",
   "name": "python3"
  },
  "language_info": {
   "codemirror_mode": {
    "name": "ipython",
    "version": 3
   },
   "file_extension": ".py",
   "mimetype": "text/x-python",
   "name": "python",
   "nbconvert_exporter": "python",
   "pygments_lexer": "ipython3",
   "version": "3.10.12"
  }
 },
 "nbformat": 4,
 "nbformat_minor": 5
}
